{
  "nbformat": 4,
  "nbformat_minor": 0,
  "metadata": {
    "colab": {
      "provenance": [],
      "authorship_tag": "ABX9TyOBFPDdpnChYP6XGmKu55Ka",
      "include_colab_link": true
    },
    "kernelspec": {
      "name": "python3",
      "display_name": "Python 3"
    },
    "language_info": {
      "name": "python"
    }
  },
  "cells": [
    {
      "cell_type": "markdown",
      "metadata": {
        "id": "view-in-github",
        "colab_type": "text"
      },
      "source": [
        "<a href=\"https://colab.research.google.com/github/Janies-Garcia-Velasco/simulacion-n-2/blob/main/Proceso_de_poisson_homogeneo.ipynb\" target=\"_parent\"><img src=\"https://colab.research.google.com/assets/colab-badge.svg\" alt=\"Open In Colab\"/></a>"
      ]
    },
    {
      "cell_type": "code",
      "execution_count": 1,
      "metadata": {
        "id": "xeCG3iolUIpj"
      },
      "outputs": [],
      "source": [
        "import random as rnd\n",
        "import numpy as np\n",
        "import matplotlib.pyplot as plt"
      ]
    },
    {
      "cell_type": "code",
      "source": [
        "I=0\n",
        "t=0\n",
        "T=60\n",
        "s=[]\n",
        "In=[]\n",
        "lan=0.34\n",
        "\n",
        "def lam(m):\n",
        "  if 0<=m<3:\n",
        "    return 5+(5*m)\n",
        "  elif 3<=m<5:\n",
        "    return 20\n",
        "  elif 5<=m<=9:\n",
        "    return 20-2*(m-5)\n",
        "  else:\n",
        "    return 0\n",
        "\n",
        "while t<T:\n",
        " x=rnd.random()\n",
        " t=t-(np.log(x)/lan)\n",
        " I+=1\n",
        " s.append(t)\n",
        " In.append(I)\n",
        "\n",
        " if t>T:\n",
        "  break\n",
        " y=rnd.random()\n",
        " if y<=lam(t)/lan:\n",
        "  I=I+1\n",
        "  print(\"S(I)=\",t)\n",
        "\n",
        "plt.step(s,In,where=\"pre\")"
      ],
      "metadata": {
        "colab": {
          "base_uri": "https://localhost:8080/",
          "height": 485
        },
        "id": "83eBl9dPUcAo",
        "outputId": "02d84164-ec96-48af-8ef5-024bb653ffd6"
      },
      "execution_count": 7,
      "outputs": [
        {
          "output_type": "stream",
          "name": "stdout",
          "text": [
            "S(I)= 6.532013249540279\n",
            "S(I)= 6.650315023013718\n"
          ]
        },
        {
          "output_type": "execute_result",
          "data": {
            "text/plain": [
              "[<matplotlib.lines.Line2D at 0x7ea2081c8670>]"
            ]
          },
          "metadata": {},
          "execution_count": 7
        },
        {
          "output_type": "display_data",
          "data": {
            "text/plain": [
              "<Figure size 640x480 with 1 Axes>"
            ],
            "image/png": "[encoded data removed]"
          },
          "metadata": {}
        }
      ]
    }
  ]
}