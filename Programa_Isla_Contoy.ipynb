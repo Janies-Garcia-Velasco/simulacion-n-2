{
  "nbformat": 4,
  "nbformat_minor": 0,
  "metadata": {
    "colab": {
      "provenance": [],
      "authorship_tag": "ABX9TyMNPgd2xJCNOTkdeKKmCtvI",
      "include_colab_link": true
    },
    "kernelspec": {
      "name": "python3",
      "display_name": "Python 3"
    },
    "language_info": {
      "name": "python"
    }
  },
  "cells": [
    {
      "cell_type": "markdown",
      "metadata": {
        "id": "view-in-github",
        "colab_type": "text"
      },
      "source": [
        "<a href=\"https://colab.research.google.com/github/Janies-Garcia-Velasco/simulacion-n-2/blob/main/Programa_Isla_Contoy.ipynb\" target=\"_parent\"><img src=\"https://colab.research.google.com/assets/colab-badge.svg\" alt=\"Open In Colab\"/></a>"
      ]
    },
    {
      "cell_type": "code",
      "source": [
        "!pip install simpy"
      ],
      "metadata": {
        "colab": {
          "base_uri": "https://localhost:8080/"
        },
        "id": "LWL__N92_kSJ",
        "outputId": "ae16225e-adb9-405f-a3fe-e7e67e6b26be"
      },
      "execution_count": 7,
      "outputs": [
        {
          "output_type": "stream",
          "name": "stdout",
          "text": [
            "Requirement already satisfied: simpy in /usr/local/lib/python3.10/dist-packages (4.1.1)\n"
          ]
        }
      ]
    },
    {
      "cell_type": "code",
      "source": [
        "import simpy\n",
        "import random"
      ],
      "metadata": {
        "id": "sU86i_KEB7q3"
      },
      "execution_count": 8,
      "outputs": []
    },
    {
      "cell_type": "code",
      "source": [
        "# Parámetros generales\n",
        "AREA_TOTAL = 2300000  # 230 ha en m²\n",
        "TIEMPO_SIMULACION = 152  # Días de simulación\n",
        "ESPECIES = {\n",
        "    \"fragata\": {\"espacio_nido\": 19, \"tiempo_anidacion\": 256},\n",
        "    \"pelicano\": {\"espacio_nido\": 8, \"tiempo_anidacion\": 135},\n",
        "    \"cormoran\": {\"espacio_nido\": 3, \"tiempo_anidacion\": 100},\n",
        "}"
      ],
      "metadata": {
        "id": "Z7BRLd1DB-NX"
      },
      "execution_count": 9,
      "outputs": []
    },
    {
      "cell_type": "code",
      "source": [
        "# Resultados\n",
        "resultados = {especie: 0 for especie in ESPECIES}\n",
        "rechazados = {especie: 0 for especie in ESPECIES}\n",
        "espacio_disponible = AREA_TOTAL"
      ],
      "metadata": {
        "id": "XtPQlNcoCAOY"
      },
      "execution_count": 10,
      "outputs": []
    },
    {
      "cell_type": "code",
      "source": [
        "# Proceso de anidación\n",
        "def anidar(env, especie, espacio_nido, tiempo_anidacion):\n",
        "    global espacio_disponible\n",
        "    while True:\n",
        "        llegadas = random.randint(10, 50)\n",
        "        for _ in range(llegadas):\n",
        "            if espacio_disponible >= espacio_nido:\n",
        "                espacio_disponible -= espacio_nido\n",
        "                resultados[especie] += 1\n",
        "                env.process(liberar_espacio(env, espacio_nido, tiempo_anidacion))\n",
        "            else:\n",
        "                rechazados[especie] += 1\n",
        "        yield env.timeout(1)  # Simular un día"
      ],
      "metadata": {
        "id": "PzCyvmF0CCN_"
      },
      "execution_count": 11,
      "outputs": []
    },
    {
      "cell_type": "code",
      "source": [
        "# Liberar espacio después del tiempo de anidación\n",
        "def liberar_espacio(env, espacio_nido, tiempo_anidacion):\n",
        "    global espacio_disponible\n",
        "    yield env.timeout(tiempo_anidacion)\n",
        "    espacio_disponible += espacio_nido"
      ],
      "metadata": {
        "id": "svFhBOP_CElg"
      },
      "execution_count": 12,
      "outputs": []
    },
    {
      "cell_type": "code",
      "source": [
        "# Configuración del entorno\n",
        "env = simpy.Environment()\n",
        "for especie, datos in ESPECIES.items():\n",
        "    env.process(anidar(env, especie, datos[\"espacio_nido\"], datos[\"tiempo_anidacion\"]))\n",
        "env.run(until=TIEMPO_SIMULACION)"
      ],
      "metadata": {
        "id": "z_3q26zrCGO3"
      },
      "execution_count": 13,
      "outputs": []
    },
    {
      "cell_type": "code",
      "execution_count": 14,
      "metadata": {
        "colab": {
          "base_uri": "https://localhost:8080/"
        },
        "id": "Kv4QtBBx_PYL",
        "outputId": "58c27542-976a-4839-fbe8-b841187cc732"
      },
      "outputs": [
        {
          "output_type": "stream",
          "name": "stdout",
          "text": [
            "Resultados finales:\n",
            "Fragata: Nidos exitosos: 4590, Aves rechazadas: 0\n",
            "Pelicano: Nidos exitosos: 4578, Aves rechazadas: 0\n",
            "Cormoran: Nidos exitosos: 4598, Aves rechazadas: 0\n"
          ]
        }
      ],
      "source": [
        "# Resultados\n",
        "print(\"Resultados finales:\")\n",
        "for especie in ESPECIES:\n",
        "    print(f\"{especie.capitalize()}: Nidos exitosos: {resultados[especie]}, Aves rechazadas: {rechazados[especie]}\")\n"
      ]
    }
  ]
}