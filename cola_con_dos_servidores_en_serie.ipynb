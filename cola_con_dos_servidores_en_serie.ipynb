{
  "nbformat": 4,
  "nbformat_minor": 0,
  "metadata": {
    "colab": {
      "provenance": [],
      "authorship_tag": "ABX9TyPlj3KyBr5B5JmT3Vle8b0Y",
      "include_colab_link": true
    },
    "kernelspec": {
      "name": "python3",
      "display_name": "Python 3"
    },
    "language_info": {
      "name": "python"
    }
  },
  "cells": [
    {
      "cell_type": "markdown",
      "metadata": {
        "id": "view-in-github",
        "colab_type": "text"
      },
      "source": [
        "<a href=\"https://colab.research.google.com/github/Janies-Garcia-Velasco/simulacion-n-2/blob/main/cola_con_dos_servidores_en_serie.ipynb\" target=\"_parent\"><img src=\"https://colab.research.google.com/assets/colab-badge.svg\" alt=\"Open In Colab\"/></a>"
      ]
    },
    {
      "cell_type": "code",
      "source": [
        "import random\n",
        "import math\n"
      ],
      "metadata": {
        "id": "zylzreS7z-gb"
      },
      "execution_count": 5,
      "outputs": []
    },
    {
      "cell_type": "code",
      "source": [
        "# Función para generar un tiempo aleatorio exponencial\n",
        "def generar_tiempo_exponencial(lambd):\n",
        "    return -math.log(random.uniform(0, 1)) / lambd"
      ],
      "metadata": {
        "id": "-GHQIjck0BEZ"
      },
      "execution_count": 6,
      "outputs": []
    },
    {
      "cell_type": "code",
      "source": [
        "def simular(lambd_llegadas, lambd_servicio_1, lambd_servicio_2, T0):\n",
        "    # Inicializar variables\n",
        "    t = 0\n",
        "    n1 = 0\n",
        "    n2 = 0\n",
        "    Nll = 0\n",
        "    Ns = 0\n",
        "\n",
        "    # Lista para registrar tiempos de llegada y salida\n",
        "    llegadas = []\n",
        "    salidas = []\n",
        "\n",
        "    # Generar el primer tiempo de llegada (T0)\n",
        "    tll = T0\n",
        "    t1 = float('inf')  # Inicializamos t1 como infinito\n",
        "    t2 = float('inf')  # Inicializamos t2 como infinito\n",
        "\n",
        "    while True:\n",
        "        # Caso 1: Llegada de un cliente\n",
        "        if tll <= t1 and tll <= t2:\n",
        "            print(\"Caso 1: Llegada de un cliente.\")\n",
        "            t = tll\n",
        "            Nll += 1\n",
        "            n1 += 1\n",
        "            llegadas.append(t)  # Registrar la llegada del cliente\n",
        "\n",
        "            # Generar nuevo tiempo de llegada\n",
        "            Tt = generar_tiempo_exponencial(lambd_llegadas)\n",
        "            tll += Tt\n",
        "\n",
        "            # Si es el único cliente en el sistema, generar tiempo de servicio Y\n",
        "            if n1 == 1:\n",
        "                Y = generar_tiempo_exponencial(lambd_servicio_1)\n",
        "                t1 = t + Y\n",
        "\n",
        "        # Caso 2: Un cliente termina el servicio 1 y pasa al servicio 2\n",
        "        elif t1 <= tll and t1 <= t2:\n",
        "            print(\"Caso 2: Cliente pasa del servicio 1 al servicio 2.\")\n",
        "            t = t1\n",
        "            n1 -= 1\n",
        "            n2 += 1\n",
        "\n",
        "            # Si ya no hay clientes en servicio 1, hacer t1 infinito\n",
        "            if n1 == 0:\n",
        "                t1 = float('inf')\n",
        "            else:\n",
        "                # Generar el siguiente tiempo de servicio para el próximo cliente en servicio 1\n",
        "                Y1 = generar_tiempo_exponencial(lambd_servicio_1)\n",
        "                t1 = t + Y1\n",
        "\n",
        "            # Si es el único cliente en el servicio 2, generar tiempo de servicio Y2\n",
        "            if n2 == 1:\n",
        "                Y2 = generar_tiempo_exponencial(lambd_servicio_2)\n",
        "                t2 = t + Y2\n",
        "\n",
        "        # Caso 3: Un cliente termina el servicio 2 y sale del sistema\n",
        "        elif t2 <= tll and t2 <= t1:\n",
        "            print(\"Caso 3: Cliente termina el servicio 2 y sale del sistema.\")\n",
        "            t = t2\n",
        "            Ns += 1\n",
        "            n2 -= 1\n",
        "            salidas.append(t)  # Registrar la salida del cliente\n",
        "\n",
        "            # Si hay más clientes en servicio 2, generar otro tiempo de servicio Y2\n",
        "            if n2 > 0:\n",
        "                Y2 = generar_tiempo_exponencial(lambd_servicio_2)\n",
        "                t2 = t + Y2\n",
        "            else:\n",
        "                t2 = float('inf')\n",
        "\n",
        "        # Condición de salida: puedes cambiar esto según lo que desees\n",
        "        if Ns >= 10:  # Ejemplo: detener después de 10 salidas\n",
        "            break\n",
        "\n",
        "    # Retornar los registros de llegadas y salidas\n",
        "    return llegadas, salidas\n"
      ],
      "metadata": {
        "id": "iqS0iZkQ0Hxh"
      },
      "execution_count": 7,
      "outputs": []
    },
    {
      "cell_type": "code",
      "source": [
        "# Parámetros de ejemplo\n",
        "lambd_llegadas = 1.0  # Tasa de llegada\n",
        "lambd_servicio_1 = 1.5  # Tasa de servicio 1\n",
        "lambd_servicio_2 = 2.0  # Tasa de servicio 2\n",
        "T0 = generar_tiempo_exponencial(lambd_llegadas)"
      ],
      "metadata": {
        "id": "O-Fk4Rk50LKz"
      },
      "execution_count": 8,
      "outputs": []
    },
    {
      "cell_type": "code",
      "source": [
        "# Ejecutar la simulación\n",
        "llegadas, salidas = simular(lambd_llegadas, lambd_servicio_1, lambd_servicio_2, T0)\n",
        "\n",
        "# Imprimir los resultados\n",
        "print(f\"Llegadas: {llegadas}\")\n",
        "print(f\"Salidas: {salidas}\")\n"
      ],
      "metadata": {
        "colab": {
          "base_uri": "https://localhost:8080/"
        },
        "id": "BIQDalS4z3G-",
        "outputId": "59320f32-4f52-4e57-937b-7910e20a317f"
      },
      "execution_count": 9,
      "outputs": [
        {
          "output_type": "stream",
          "name": "stdout",
          "text": [
            "Caso 1: Llegada de un cliente.\n",
            "Caso 2: Cliente pasa del servicio 1 al servicio 2.\n",
            "Caso 3: Cliente termina el servicio 2 y sale del sistema.\n",
            "Caso 1: Llegada de un cliente.\n",
            "Caso 2: Cliente pasa del servicio 1 al servicio 2.\n",
            "Caso 3: Cliente termina el servicio 2 y sale del sistema.\n",
            "Caso 1: Llegada de un cliente.\n",
            "Caso 2: Cliente pasa del servicio 1 al servicio 2.\n",
            "Caso 3: Cliente termina el servicio 2 y sale del sistema.\n",
            "Caso 1: Llegada de un cliente.\n",
            "Caso 2: Cliente pasa del servicio 1 al servicio 2.\n",
            "Caso 3: Cliente termina el servicio 2 y sale del sistema.\n",
            "Caso 1: Llegada de un cliente.\n",
            "Caso 2: Cliente pasa del servicio 1 al servicio 2.\n",
            "Caso 3: Cliente termina el servicio 2 y sale del sistema.\n",
            "Caso 1: Llegada de un cliente.\n",
            "Caso 2: Cliente pasa del servicio 1 al servicio 2.\n",
            "Caso 3: Cliente termina el servicio 2 y sale del sistema.\n",
            "Caso 1: Llegada de un cliente.\n",
            "Caso 1: Llegada de un cliente.\n",
            "Caso 2: Cliente pasa del servicio 1 al servicio 2.\n",
            "Caso 2: Cliente pasa del servicio 1 al servicio 2.\n",
            "Caso 1: Llegada de un cliente.\n",
            "Caso 3: Cliente termina el servicio 2 y sale del sistema.\n",
            "Caso 1: Llegada de un cliente.\n",
            "Caso 2: Cliente pasa del servicio 1 al servicio 2.\n",
            "Caso 2: Cliente pasa del servicio 1 al servicio 2.\n",
            "Caso 3: Cliente termina el servicio 2 y sale del sistema.\n",
            "Caso 1: Llegada de un cliente.\n",
            "Caso 3: Cliente termina el servicio 2 y sale del sistema.\n",
            "Caso 2: Cliente pasa del servicio 1 al servicio 2.\n",
            "Caso 3: Cliente termina el servicio 2 y sale del sistema.\n",
            "Llegadas: [2.192759604854499, 3.1965295783643084, 6.658911977491293, 9.14987699719347, 10.258833414124833, 12.014469519008445, 14.329770965506935, 14.677888926966999, 15.414834161022831, 15.54468596895138, 17.213416016203904]\n",
            "Salidas: [2.646919584393522, 4.1056749689241, 7.495717431297317, 10.214345372424818, 10.754842800826097, 13.905327080176942, 15.495194498840972, 16.928433153830433, 17.244718841358434, 17.4709756285115]\n"
          ]
        }
      ]
    }
  ]
}