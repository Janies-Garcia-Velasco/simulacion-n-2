{
  "nbformat": 4,
  "nbformat_minor": 0,
  "metadata": {
    "colab": {
      "provenance": [],
      "authorship_tag": "ABX9TyPxpT3SSQ3ww3YHWdg/EgGk",
      "include_colab_link": true
    },
    "kernelspec": {
      "name": "python3",
      "display_name": "Python 3"
    },
    "language_info": {
      "name": "python"
    }
  },
  "cells": [
    {
      "cell_type": "markdown",
      "metadata": {
        "id": "view-in-github",
        "colab_type": "text"
      },
      "source": [
        "<a href=\"https://colab.research.google.com/github/Janies-Garcia-Velasco/simulacion-n-2/blob/main/cola_con_un_servidor.ipynb\" target=\"_parent\"><img src=\"https://colab.research.google.com/assets/colab-badge.svg\" alt=\"Open In Colab\"/></a>"
      ]
    },
    {
      "cell_type": "code",
      "source": [
        "import random\n",
        "import math"
      ],
      "metadata": {
        "id": "PHjFvGlCtIHh"
      },
      "execution_count": 2,
      "outputs": []
    },
    {
      "cell_type": "code",
      "source": [
        "def simulate(S, T, lambd):\n",
        "    t = S  # Inicializamos t con el valor de S\n",
        "    Ts = None  # Inicializamos Ts como None, se actualizará cuando se cumpla la condición\n",
        "\n",
        "    while True:\n",
        "        # Simular u1, se aproxima a U(0,1)\n",
        "        u1 = random.uniform(0, 1)\n",
        "\n",
        "        # Actualizar t usando la ecuación t = t - (ln(u1) / lambda)\n",
        "        t -= (math.log(u1) / lambd)\n",
        "\n",
        "        # Verificar si t excede el umbral T\n",
        "        if t > T:\n",
        "            print(\"Parar la simulación, t ha excedido T.\")\n",
        "            break\n",
        "\n",
        "        # Simular u2, se aproxima a U(0,1)\n",
        "        u2 = random.uniform(0, 1)\n",
        "\n",
        "        # Verificar si u2 <= (lambda(t) / lambda), donde lambda(t) es igual a lambda en este caso\n",
        "        if u2 <= (lambd * t / lambd):\n",
        "            Ts = t  # Actualizamos Ts con el valor de t\n",
        "            print(f\"Ts se ha actualizado: Ts = {Ts}\")\n",
        "\n",
        "    return Ts  # Retornar el valor de Ts"
      ],
      "metadata": {
        "id": "Qhoyo6_gtOGz"
      },
      "execution_count": 3,
      "outputs": []
    },
    {
      "cell_type": "code",
      "execution_count": 4,
      "metadata": {
        "colab": {
          "base_uri": "https://localhost:8080/"
        },
        "id": "2lZ6Za20s_uE",
        "outputId": "610ee6d6-8078-4c58-eeb9-3310df5d554b"
      },
      "outputs": [
        {
          "output_type": "stream",
          "name": "stdout",
          "text": [
            "Ts se ha actualizado: Ts = 0.47607031776907155\n",
            "Ts se ha actualizado: Ts = 1.5119326395490267\n",
            "Ts se ha actualizado: Ts = 1.958565102489943\n",
            "Ts se ha actualizado: Ts = 2.9259981294348854\n",
            "Ts se ha actualizado: Ts = 4.040749404174242\n",
            "Ts se ha actualizado: Ts = 4.170977362688307\n",
            "Ts se ha actualizado: Ts = 4.605837903759829\n",
            "Ts se ha actualizado: Ts = 5.111279101968464\n",
            "Ts se ha actualizado: Ts = 6.30257666945859\n",
            "Ts se ha actualizado: Ts = 6.311937914201739\n",
            "Ts se ha actualizado: Ts = 6.552260881374602\n",
            "Ts se ha actualizado: Ts = 6.884522654961131\n",
            "Ts se ha actualizado: Ts = 7.408026074712393\n",
            "Ts se ha actualizado: Ts = 7.541886769455936\n",
            "Ts se ha actualizado: Ts = 8.111514289474814\n",
            "Ts se ha actualizado: Ts = 8.253532847401546\n",
            "Ts se ha actualizado: Ts = 8.276280826932204\n",
            "Ts se ha actualizado: Ts = 8.584157509422896\n",
            "Ts se ha actualizado: Ts = 9.673071154649028\n",
            "Ts se ha actualizado: Ts = 9.837081965907686\n",
            "Parar la simulación, t ha excedido T.\n",
            "Resultado final de Ts: 9.837081965907686\n"
          ]
        }
      ],
      "source": [
        "# Ejemplo de uso:\n",
        "S = 0  # Valor inicial de t\n",
        "T = 10  # Umbral de tiempo\n",
        "lambd = 1.5  # Parámetro lambda\n",
        "Ts_result = simulate(S, T, lambd)\n",
        "\n",
        "print(f\"Resultado final de Ts: {Ts_result}\")\n"
      ]
    }
  ]
}