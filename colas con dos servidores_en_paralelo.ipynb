{
  "nbformat": 4,
  "nbformat_minor": 0,
  "metadata": {
    "colab": {
      "provenance": [],
      "authorship_tag": "ABX9TyMgRLQNk0q3eUG+t6gjtvNH",
      "include_colab_link": true
    },
    "kernelspec": {
      "name": "python3",
      "display_name": "Python 3"
    },
    "language_info": {
      "name": "python"
    }
  },
  "cells": [
    {
      "cell_type": "markdown",
      "metadata": {
        "id": "view-in-github",
        "colab_type": "text"
      },
      "source": [
        "<a href=\"https://colab.research.google.com/github/Janies-Garcia-Velasco/simulacion-n-2/blob/main/colas%20con%20dos%20servidores_en_paralelo.ipynb\" target=\"_parent\"><img src=\"https://colab.research.google.com/assets/colab-badge.svg\" alt=\"Open In Colab\"/></a>"
      ]
    },
    {
      "cell_type": "code",
      "source": [
        "import random\n",
        "import math"
      ],
      "metadata": {
        "id": "vdIYSjHJ_yc4"
      },
      "execution_count": 4,
      "outputs": []
    },
    {
      "cell_type": "code",
      "source": [
        "# Función para generar un tiempo aleatorio exponencial\n",
        "def generar_tiempo_exponencial(lambd):\n",
        "    return -math.log(random.uniform(0, 1)) / lambd"
      ],
      "metadata": {
        "id": "0AAEcBrk_0dW"
      },
      "execution_count": 5,
      "outputs": []
    },
    {
      "cell_type": "code",
      "source": [
        "def simular(lambd_llegadas, lambd_servicio_1, lambd_servicio_2, T0):\n",
        "    # Inicializar variables\n",
        "    t = 0  # Tiempo actual de la simulación\n",
        "    Nll = 0  # Contador de llegadas\n",
        "    c1 = 0  # Contador para clientes que terminan servicio 1\n",
        "    c2 = 0  # Contador para clientes que terminan servicio 2\n",
        "    cola_1 = []  # Cola de clientes esperando servicio 1\n",
        "    cola_2 = []  # Cola de clientes esperando servicio 2\n",
        "\n",
        "    llegadas = []  # Lista de tiempos de llegada\n",
        "    salidas = {}   # Diccionario de tiempos de salida (clave: cliente, valor: tiempo de salida)\n",
        "\n",
        "    # Estado de los servidores (tiempo de finalización del cliente en cada servidor)\n",
        "    t1 = float('inf')  # Tiempo en que termina el servicio 1 (inicialmente vacío)\n",
        "    t2 = float('inf')  # Tiempo en que termina el servicio 2 (inicialmente vacío)\n",
        "\n",
        "    # Inicializar el primer tiempo de llegada\n",
        "    tll = T0\n",
        "\n",
        "    while c2 < 10:  # Detener después de que 10 clientes completen el servicio 2\n",
        "        # Determinar cuál es el siguiente evento\n",
        "        if tll <= t1 and tll <= t2:\n",
        "            # Caso 1: Llegada de un cliente\n",
        "            t = tll\n",
        "            Nll += 1\n",
        "            llegadas.append(t)  # Registrar la llegada del cliente\n",
        "            print(f\"Cliente {Nll} llega al tiempo {t:.2f}\")\n",
        "\n",
        "            # Generar nuevo tiempo de llegada\n",
        "            tll = t + generar_tiempo_exponencial(lambd_llegadas)\n",
        "\n",
        "            # Si el servidor 1 está libre, el cliente entra en servicio 1\n",
        "            if t1 == float('inf'):\n",
        "                Y1 = generar_tiempo_exponencial(lambd_servicio_1)\n",
        "                t1 = t + Y1  # Cliente Nll ocupa el servidor 1\n",
        "                print(f\"Cliente {Nll} empieza servicio 1, termina en {t1:.2f}\")\n",
        "            else:\n",
        "                # Si servidor 1 está ocupado, el cliente espera en la cola del servicio 1\n",
        "                cola_1.append(Nll)\n",
        "                print(f\"Cliente {Nll} espera en la cola para servicio 1\")\n",
        "\n",
        "        elif t1 <= tll and t1 <= t2:\n",
        "            # Caso 2: Cliente termina servicio 1 y pasa al servicio 2\n",
        "            t = t1\n",
        "            c1 += 1\n",
        "            cliente_actual = cola_1.pop(0) if cola_1 else c1  # Cliente que estaba en servicio 1\n",
        "            print(f\"Cliente {cliente_actual} termina servicio 1 al tiempo {t:.2f}\")\n",
        "\n",
        "            # Si el servidor 2 está libre, el cliente pasa a servicio 2\n",
        "            if t2 == float('inf'):\n",
        "                Y2 = generar_tiempo_exponencial(lambd_servicio_2)\n",
        "                t2 = t + Y2  # Cliente ocupa el servidor 2\n",
        "                print(f\"Cliente {cliente_actual} empieza servicio 2, termina en {t2:.2f}\")\n",
        "            else:\n",
        "                # Si el servidor 2 está ocupado, el cliente espera en la cola para el servicio 2\n",
        "                cola_2.append(cliente_actual)\n",
        "\n",
        "            # Si hay más clientes en la cola del servicio 1, asignar el próximo cliente al servidor 1\n",
        "            if cola_1:\n",
        "                Y1 = generar_tiempo_exponencial(lambd_servicio_1)\n",
        "                t1 = t + Y1\n",
        "                print(f\"Cliente {cola_1[0]} empieza servicio 1, termina en {t1:.2f}\")\n",
        "            else:\n",
        "                t1 = float('inf')  # No hay clientes esperando para el servicio 1\n",
        "\n",
        "        elif t2 <= tll and t2 <= t1:\n",
        "            # Caso 3: Cliente termina servicio 2 y sale del sistema\n",
        "            t = t2\n",
        "            c2 += 1\n",
        "            cliente_actual = cola_2.pop(0) if cola_2 else c2  # Cliente que estaba en servicio 2\n",
        "            salidas[cliente_actual] = t  # Registrar la salida del cliente\n",
        "            print(f\"Cliente {cliente_actual} termina servicio 2 y sale al tiempo {t:.2f}\")\n",
        "\n",
        "            # Si hay más clientes esperando para el servicio 2, asignar el próximo\n",
        "            if cola_2:\n",
        "                Y2 = generar_tiempo_exponencial(lambd_servicio_2)\n",
        "                t2 = t + Y2\n",
        "                print(f\"Cliente {cola_2[0]} empieza servicio 2, termina en {t2:.2f}\")\n",
        "            else:\n",
        "                t2 = float('inf')  # No hay clientes esperando para el servicio 2\n",
        "\n",
        "    # Retornar los registros de llegadas y salidas\n",
        "    return llegadas, salidas"
      ],
      "metadata": {
        "id": "7C_jb7Aq_48X"
      },
      "execution_count": 6,
      "outputs": []
    },
    {
      "cell_type": "code",
      "source": [
        "# Parámetros de ejemplo\n",
        "lambd_llegadas = 1.0  # Tasa de llegada\n",
        "lambd_servicio_1 = 1.5  # Tasa de servicio 1\n",
        "lambd_servicio_2 = 2.0  # Tasa de servicio 2\n",
        "T0 = generar_tiempo_exponencial(lambd_llegadas)\n",
        "\n",
        "# Ejecutar la simulación\n",
        "llegadas, salidas = simular(lambd_llegadas, lambd_servicio_1, lambd_servicio_2, T0)\n",
        "\n",
        "# Imprimir los resultados\n",
        "print(f\"Llegadas: {llegadas}\")\n",
        "print(f\"Salidas: {salidas}\")\n"
      ],
      "metadata": {
        "colab": {
          "base_uri": "https://localhost:8080/"
        },
        "id": "3BVDxF9F_hSU",
        "outputId": "2bac3091-0f9c-496b-bd23-7d2af0995a65"
      },
      "execution_count": 7,
      "outputs": [
        {
          "output_type": "stream",
          "name": "stdout",
          "text": [
            "Cliente 1 llega al tiempo 0.68\n",
            "Cliente 1 empieza servicio 1, termina en 1.34\n",
            "Cliente 2 llega al tiempo 0.73\n",
            "Cliente 2 espera en la cola para servicio 1\n",
            "Cliente 2 termina servicio 1 al tiempo 1.34\n",
            "Cliente 2 empieza servicio 2, termina en 1.58\n",
            "Cliente 1 termina servicio 2 y sale al tiempo 1.58\n",
            "Cliente 3 llega al tiempo 1.90\n",
            "Cliente 3 empieza servicio 1, termina en 1.91\n",
            "Cliente 2 termina servicio 1 al tiempo 1.91\n",
            "Cliente 2 empieza servicio 2, termina en 2.12\n",
            "Cliente 2 termina servicio 2 y sale al tiempo 2.12\n",
            "Cliente 4 llega al tiempo 2.13\n",
            "Cliente 4 empieza servicio 1, termina en 2.38\n",
            "Cliente 3 termina servicio 1 al tiempo 2.38\n",
            "Cliente 3 empieza servicio 2, termina en 3.89\n",
            "Cliente 5 llega al tiempo 2.51\n",
            "Cliente 5 empieza servicio 1, termina en 6.80\n",
            "Cliente 6 llega al tiempo 3.13\n",
            "Cliente 6 espera en la cola para servicio 1\n",
            "Cliente 3 termina servicio 2 y sale al tiempo 3.89\n",
            "Cliente 7 llega al tiempo 6.64\n",
            "Cliente 7 espera en la cola para servicio 1\n",
            "Cliente 6 termina servicio 1 al tiempo 6.80\n",
            "Cliente 6 empieza servicio 2, termina en 6.99\n",
            "Cliente 7 empieza servicio 1, termina en 7.05\n",
            "Cliente 4 termina servicio 2 y sale al tiempo 6.99\n",
            "Cliente 7 termina servicio 1 al tiempo 7.05\n",
            "Cliente 7 empieza servicio 2, termina en 7.30\n",
            "Cliente 5 termina servicio 2 y sale al tiempo 7.30\n",
            "Cliente 8 llega al tiempo 8.40\n",
            "Cliente 8 empieza servicio 1, termina en 8.93\n",
            "Cliente 6 termina servicio 1 al tiempo 8.93\n",
            "Cliente 6 empieza servicio 2, termina en 9.75\n",
            "Cliente 9 llega al tiempo 8.98\n",
            "Cliente 9 empieza servicio 1, termina en 9.68\n",
            "Cliente 7 termina servicio 1 al tiempo 9.68\n",
            "Cliente 7 termina servicio 2 y sale al tiempo 9.75\n",
            "Cliente 10 llega al tiempo 10.16\n",
            "Cliente 10 empieza servicio 1, termina en 10.75\n",
            "Cliente 11 llega al tiempo 10.57\n",
            "Cliente 11 espera en la cola para servicio 1\n",
            "Cliente 11 termina servicio 1 al tiempo 10.75\n",
            "Cliente 11 empieza servicio 2, termina en 11.32\n",
            "Cliente 12 llega al tiempo 10.97\n",
            "Cliente 12 empieza servicio 1, termina en 11.54\n",
            "Cliente 7 termina servicio 2 y sale al tiempo 11.32\n",
            "Cliente 9 termina servicio 1 al tiempo 11.54\n",
            "Cliente 9 empieza servicio 2, termina en 11.57\n",
            "Cliente 8 termina servicio 2 y sale al tiempo 11.57\n",
            "Cliente 13 llega al tiempo 12.26\n",
            "Cliente 13 empieza servicio 1, termina en 12.49\n",
            "Cliente 10 termina servicio 1 al tiempo 12.49\n",
            "Cliente 10 empieza servicio 2, termina en 12.55\n",
            "Cliente 14 llega al tiempo 12.55\n",
            "Cliente 14 empieza servicio 1, termina en 13.54\n",
            "Cliente 9 termina servicio 2 y sale al tiempo 12.55\n",
            "Cliente 11 termina servicio 1 al tiempo 13.54\n",
            "Cliente 11 empieza servicio 2, termina en 14.52\n",
            "Cliente 10 termina servicio 2 y sale al tiempo 14.52\n",
            "Llegadas: [0.6762550008730392, 0.7333284814879331, 1.9004319408640267, 2.1271897011728362, 2.513795226386178, 3.132470457195492, 6.643146685843043, 8.397429404138892, 8.977862154757169, 10.164131971115456, 10.568148506794012, 10.96684888842059, 12.262435149582053, 12.55251038091706]\n",
            "Salidas: {1: 1.5836281791590128, 2: 2.118817795732164, 3: 3.8869318364518337, 4: 6.985962286967565, 5: 7.301714379581721, 7: 11.322753978985787, 8: 11.56974653258514, 9: 12.55251997109006, 10: 14.515190476507854}\n"
          ]
        }
      ]
    }
  ]
}