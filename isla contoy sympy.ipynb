{
  "cells": [
    {
      "cell_type": "markdown",
      "metadata": {
        "id": "view-in-github",
        "colab_type": "text"
      },
      "source": [
        "<a href=\"https://colab.research.google.com/github/Janies-Garcia-Velasco/simulacion-n-2/blob/main/isla%20contoy%20sympy.ipynb\" target=\"_parent\"><img src=\"https://colab.research.google.com/assets/colab-badge.svg\" alt=\"Open In Colab\"/></a>"
      ]
    },
    {
      "cell_type": "code",
      "execution_count": null,
      "metadata": {
        "colab": {
          "base_uri": "https://localhost:8080/"
        },
        "id": "jD1-PqfEjOHP",
        "outputId": "84cf1029-d2bf-4320-8b92-d3c5f89a3a66"
      },
      "outputs": [
        {
          "name": "stdout",
          "output_type": "stream",
          "text": [
            "Requirement already satisfied: sympy in /usr/local/lib/python3.10/dist-packages (1.13.1)\n",
            "Requirement already satisfied: mpmath<1.4,>=1.1.0 in /usr/local/lib/python3.10/dist-packages (from sympy) (1.3.0)\n"
          ]
        }
      ],
      "source": [
        "pip install sympy"
      ]
    },
    {
      "cell_type": "code",
      "execution_count": null,
      "metadata": {
        "colab": {
          "background_save": true,
          "base_uri": "https://localhost:8080/",
          "height": 218
        },
        "id": "UPcxNOeRjCKD",
        "outputId": "403c664a-c2f7-413f-f716-59f3574a4c2d"
      },
      "outputs": [
        {
          "ename": "AttributeError",
          "evalue": "module 'sympy' has no attribute 'Environment'",
          "output_type": "error",
          "traceback": [
            "\u001b[0;31m---------------------------------------------------------------------------\u001b[0m",
            "\u001b[0;31mAttributeError\u001b[0m                            Traceback (most recent call last)",
            "\u001b[0;32m<ipython-input-5-9ec231071fe8>\u001b[0m in \u001b[0;36m<cell line: 40>\u001b[0;34m()\u001b[0m\n\u001b[1;32m     38\u001b[0m \u001b[0;34m\u001b[0m\u001b[0m\n\u001b[1;32m     39\u001b[0m \u001b[0;31m# Configuración del entorno de simulación\u001b[0m\u001b[0;34m\u001b[0m\u001b[0;34m\u001b[0m\u001b[0m\n\u001b[0;32m---> 40\u001b[0;31m \u001b[0menv\u001b[0m \u001b[0;34m=\u001b[0m \u001b[0msympy\u001b[0m\u001b[0;34m.\u001b[0m\u001b[0mEnvironment\u001b[0m\u001b[0;34m(\u001b[0m\u001b[0;34m)\u001b[0m\u001b[0;34m\u001b[0m\u001b[0;34m\u001b[0m\u001b[0m\n\u001b[0m\u001b[1;32m     41\u001b[0m \u001b[0misla\u001b[0m \u001b[0;34m=\u001b[0m \u001b[0mIslaContoy\u001b[0m\u001b[0;34m(\u001b[0m\u001b[0menv\u001b[0m\u001b[0;34m)\u001b[0m\u001b[0;34m\u001b[0m\u001b[0;34m\u001b[0m\u001b[0m\n\u001b[1;32m     42\u001b[0m \u001b[0;34m\u001b[0m\u001b[0m\n",
            "\u001b[0;31mAttributeError\u001b[0m: module 'sympy' has no attribute 'Environment'"
          ]
        }
      ],
      "source": [
        "import sympy\n",
        "import random\n",
        "\n",
        "# Parámetros de anidación en metros cuadrados y tiempo de anidación\n",
        "ESPACIO_TOTAL = 1000  # Espacio total de anidación en Isla Contoy en m²\n",
        "ESPACIO_FRAGATA = 10  # m² por nido de fragata\n",
        "ESPACIO_PELICANO = 15  # m² por nido de pelícano\n",
        "ESPACIO_CORMORAN = 12  # m² por nido de cormorán\n",
        "TIEMPO_ANIDACION = 10   # Tiempo que permanece cada nido en días\n",
        "\n",
        "# Clase para el ecosistema de Isla Contoy\n",
        "class IslaContoy:\n",
        "    def __init__(self, env):\n",
        "        self.env = env\n",
        "        self.espacio_disponible = ESPACIO_TOTAL\n",
        "        self.evento_anidacion = env.event()\n",
        "\n",
        "    def intentar_anidar(self, especie, espacio_necesario):\n",
        "        if self.espacio_disponible >= espacio_necesario:\n",
        "            # Si hay espacio suficiente, el ave ocupa el espacio y anida\n",
        "            self.espacio_disponible -= espacio_necesario\n",
        "            print(f\"{especie} anida en el tiempo {self.env.now}. Espacio restante: {self.espacio_disponible} m²\")\n",
        "            yield self.env.timeout(TIEMPO_ANIDACION)  # Tiempo que ocupa el espacio anidando\n",
        "            # Libera espacio después del tiempo de anidación\n",
        "            self.espacio_disponible += espacio_necesario\n",
        "            print(f\"{especie} deja su nido en el tiempo {self.env.now}. Espacio restante: {self.espacio_disponible} m²\")\n",
        "            self.evento_anidacion.succeed()  # Marca que el evento ha ocurrido\n",
        "            self.evento_anidacion = self.env.event()  # Resetea el evento\n",
        "        else:\n",
        "            print(f\"{especie} no pudo anidar en el tiempo {self.env.now} por falta de espacio.\")\n",
        "\n",
        "# Procesos para cada especie de ave que intenta anidar\n",
        "def ave_proceso(env, isla, especie, espacio_necesario, intervalo_llegada):\n",
        "    while True:\n",
        "        yield env.timeout(random.expovariate(1.0 / intervalo_llegada))\n",
        "        print(f\"{especie} llega al tiempo {env.now}\")\n",
        "        yield env.process(isla.intentar_anidar(especie, espacio_necesario))\n",
        "\n",
        "# Configuración del entorno de simulación\n",
        "env = simpy.Environment()\n",
        "isla = IslaContoy(env)\n",
        "\n",
        "# Crear procesos para cada especie con diferentes intervalos de llegada en días\n",
        "env.process(ave_proceso(env, isla, 'Fragata', ESPACIO_FRAGATA, 3))  # Fragatas llegan en promedio cada 3 días\n",
        "env.process(ave_proceso(env, isla, 'Pelícano', ESPACIO_PELICANO, 5))  # Pelícanos llegan cada 5 días\n",
        "env.process(ave_proceso(env, isla, 'Cormorán', ESPACIO_CORMORAN, 4))  # Cormoranes cada 4 días\n",
        "\n",
        "# Ejecutar simulación durante un periodo de 50 días\n",
        "env.run(until=50)\n"
      ]
    }
  ],
  "metadata": {
    "colab": {
      "provenance": [],
      "authorship_tag": "ABX9TyOhr/gmh7kfHfEwjqjwkO/G",
      "include_colab_link": true
    },
    "kernelspec": {
      "display_name": "Python 3",
      "name": "python3"
    },
    "language_info": {
      "name": "python"
    }
  },
  "nbformat": 4,
  "nbformat_minor": 0
}