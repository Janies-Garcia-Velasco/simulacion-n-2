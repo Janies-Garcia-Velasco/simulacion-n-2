{
  "nbformat": 4,
  "nbformat_minor": 0,
  "metadata": {
    "colab": {
      "provenance": [],
      "authorship_tag": "ABX9TyNK/QIg+u9EHtWXreB/3/MA",
      "include_colab_link": true
    },
    "kernelspec": {
      "name": "python3",
      "display_name": "Python 3"
    },
    "language_info": {
      "name": "python"
    }
  },
  "cells": [
    {
      "cell_type": "markdown",
      "metadata": {
        "id": "view-in-github",
        "colab_type": "text"
      },
      "source": [
        "<a href=\"https://colab.research.google.com/github/Janies-Garcia-Velasco/simulacion-n-2/blob/main/procesos_estocasticos.ipynb\" target=\"_parent\"><img src=\"https://colab.research.google.com/assets/colab-badge.svg\" alt=\"Open In Colab\"/></a>"
      ]
    },
    {
      "cell_type": "markdown",
      "source": [
        "supongamos que tenemos un tablero con 4 sectores, lanzamos 2 monedas, y avanzamos en sentido horario, el numero de caras que aparezcan. si repetimos el procediemiento ¿con todos los sectores igual de prob. cuando pase mucho tiempo?\n",
        "\n",
        "$X_n$= probabilidad de estar en el sector naranja tras un lanzamiento\n",
        "\n",
        "$Y_n$= probabilidad de estar en el sector azul tras un lanzamiento\n",
        "\n",
        "$Z_n$= probabilidad de estar en el sector verde tras un lanzamiento\n",
        "\n",
        "$t_n$= probabilidad de estar en el sector rojo tras un lanzamiento"
      ],
      "metadata": {
        "id": "6VqVL_NFq-7b"
      }
    },
    {
      "cell_type": "code",
      "execution_count": null,
      "metadata": {
        "id": "mUf8-944q40W"
      },
      "outputs": [],
      "source": [
        "import numpy as np\n",
        "import matplotlib.pyplot as plt\n",
        "import random"
      ]
    },
    {
      "cell_type": "code",
      "source": [
        "#definimos los sectores del circulo\n",
        "sectores=[\"naranja\",\"azul\",\"verde\",\"amarillo\"]\n",
        "\n",
        "#cantadores en ceros\n",
        "contador=[\"naranja\":0, \"azul\":0, \"verde\":0, \"amarillo\":0]\n",
        "\n",
        "#numero de simulaciones\n",
        "simulaciones=1000\n",
        "\n",
        "#funcion para los dos lamzamientos\n",
        "def lanzamientos(n):\n",
        "  return random.randit(0,1)+random.randit(0,1)\n",
        "\n",
        "posicion=0 #comenzamos por el sector naranja\n",
        "\n",
        "for _ in range(simulaciones):\n",
        "\n",
        "  resultado= lanzamiento()#lanzamiento de monedas 0,1 o 2\n",
        "  posicion=(posicion+resultado)%4 #cambio de posicion entre las 4 secciones\n",
        "  sector1=sectores[posicion]#saber el sector actual\n",
        "  contador[sector1]+=1 #cantidad de veces que cae en el sector\n",
        "\n",
        "  #probabilidades\n",
        "  for sector, probabilidad in probabilidades.items():\n",
        "\n"
      ],
      "metadata": {
        "id": "iYkMbn-ltMQS"
      },
      "execution_count": null,
      "outputs": []
    }
  ]
}