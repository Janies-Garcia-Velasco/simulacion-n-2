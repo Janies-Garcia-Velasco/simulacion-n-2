{
  "nbformat": 4,
  "nbformat_minor": 0,
  "metadata": {
    "colab": {
      "provenance": [],
      "authorship_tag": "ABX9TyNWIaVzjeB3GO0uLEG5plck",
      "include_colab_link": true
    },
    "kernelspec": {
      "name": "python3",
      "display_name": "Python 3"
    },
    "language_info": {
      "name": "python"
    }
  },
  "cells": [
    {
      "cell_type": "markdown",
      "metadata": {
        "id": "view-in-github",
        "colab_type": "text"
      },
      "source": [
        "<a href=\"https://colab.research.google.com/github/Janies-Garcia-Velasco/simulacion-n-2/blob/main/procesos_estocasticos_CIRCULO%20DE%20COLORES.ipynb\" target=\"_parent\"><img src=\"https://colab.research.google.com/assets/colab-badge.svg\" alt=\"Open In Colab\"/></a>"
      ]
    },
    {
      "cell_type": "markdown",
      "source": [
        "supongamos que tenemos un tablero con 4 sectores, lanzamos 2 monedas, y avanzamos en sentido horario, el numero de caras que aparezcan. si repetimos el procediemiento ¿con todos los sectores igual de prob. cuando pase mucho tiempo?\n",
        "\n",
        "$X_n$= probabilidad de estar en el sector naranja tras un lanzamiento\n",
        "\n",
        "$Y_n$= probabilidad de estar en el sector azul tras un lanzamiento\n",
        "\n",
        "$Z_n$= probabilidad de estar en el sector verde tras un lanzamiento\n",
        "\n",
        "$t_n$= probabilidad de estar en el sector rojo tras un lanzamiento"
      ],
      "metadata": {
        "id": "6VqVL_NFq-7b"
      }
    },
    {
      "cell_type": "code",
      "execution_count": 7,
      "metadata": {
        "id": "mUf8-944q40W"
      },
      "outputs": [],
      "source": [
        "import numpy as np\n",
        "import matplotlib.pyplot as plt\n",
        "import random"
      ]
    },
    {
      "cell_type": "code",
      "source": [
        "#definimos los sectores del circulo\n",
        "sectores=[\"naranja\",\"azul\",\"verde\",\"amarillo\"]\n",
        "#cantadores en ceros\n",
        "contador={\"naranja\":0, \"azul\":0, \"verde\":0, \"amarillo\":0}\n",
        "\n",
        "#numero de simulaciones\n",
        "simulaciones=1000\n",
        "\n",
        "#funcion para los dos lamzamientos\n",
        "def lanzamientos():\n",
        "  return random.randint(0,1)+random.randint(0,1)\n",
        "\n",
        "posicion=0 #comenzamos por el sector naranja\n",
        "\n",
        "for _ in range(simulaciones):\n",
        "\n",
        "  resultado= lanzamientos()#lanzamiento de monedas 0,1 o 2\n",
        "  posicion=(posicion+resultado)%4 #cambio de posicion entre las 4 secciones\n",
        "  sector1=sectores[posicion]#saber el sector actual\n",
        "  contador[sector1]+=1 #cantidad de veces que cae en el sector\n",
        "\n",
        "  #probabilidades\n",
        "  probabilidades={sector: contador[sector]/simulaciones for sector in sectores}\n",
        "\n",
        "for sector, probabilidad in probabilidades.items():\n",
        "  print(f\"probabilidades de estar en {sector}: {probabilidad:.4f} \")\n",
        "\n",
        "\n"
      ],
      "metadata": {
        "id": "iYkMbn-ltMQS",
        "outputId": "2e0f5732-5f96-47dc-de98-4ef4e04af370",
        "colab": {
          "base_uri": "https://localhost:8080/"
        }
      },
      "execution_count": 13,
      "outputs": [
        {
          "output_type": "stream",
          "name": "stdout",
          "text": [
            "probabilidades de estar en naranja: 0.2450 \n",
            "probabilidades de estar en azul: 0.2620 \n",
            "probabilidades de estar en verde: 0.2490 \n",
            "probabilidades de estar en amarillo: 0.2440 \n"
          ]
        }
      ]
    },
    {
      "cell_type": "code",
      "source": [
        "#grafiacion del histograma\n",
        "plt.bar(probabilidades.keys(),probabilidades.values(),color=[\"orange\",\"blue\",\"green\",\"red\"])\n",
        "plt.xlabel(\"sectores\")\n",
        "plt.ylabel(\"probabilidad\")\n",
        "plt.title(\"probabilidad de estar en cada sector tras muchos mivimientos\")\n",
        "plt.show\n"
      ],
      "metadata": {
        "id": "8XkpVdGroNsG",
        "outputId": "af9bb208-fa87-456a-fcda-0eb6d1b55781",
        "colab": {
          "base_uri": "https://localhost:8080/",
          "height": 641
        }
      },
      "execution_count": 14,
      "outputs": [
        {
          "output_type": "execute_result",
          "data": {
            "text/plain": [
              "<function matplotlib.pyplot.show(close=None, block=None)>"
            ],
            "text/html": [
              "<div style=\"max-width:800px; border: 1px solid var(--colab-border-color);\"><style>\n",
              "      pre.function-repr-contents {\n",
              "        overflow-x: auto;\n",
              "        padding: 8px 12px;\n",
              "        max-height: 500px;\n",
              "      }\n",
              "\n",
              "      pre.function-repr-contents.function-repr-contents-collapsed {\n",
              "        cursor: pointer;\n",
              "        max-height: 100px;\n",
              "      }\n",
              "    </style>\n",
              "    <pre style=\"white-space: initial; background:\n",
              "         var(--colab-secondary-surface-color); padding: 8px 12px;\n",
              "         border-bottom: 1px solid var(--colab-border-color);\"><b>matplotlib.pyplot.show</b><br/>def show(*args, **kwargs)</pre><pre class=\"function-repr-contents function-repr-contents-collapsed\" style=\"\"><a class=\"filepath\" style=\"display:none\" href=\"#\">/usr/local/lib/python3.10/dist-packages/matplotlib/pyplot.py</a>Display all open figures.\n",
              "\n",
              "Parameters\n",
              "----------\n",
              "block : bool, optional\n",
              "    Whether to wait for all figures to be closed before returning.\n",
              "\n",
              "    If `True` block and run the GUI main loop until all figure windows\n",
              "    are closed.\n",
              "\n",
              "    If `False` ensure that all figure windows are displayed and return\n",
              "    immediately.  In this case, you are responsible for ensuring\n",
              "    that the event loop is running to have responsive figures.\n",
              "\n",
              "    Defaults to True in non-interactive mode and to False in interactive\n",
              "    mode (see `.pyplot.isinteractive`).\n",
              "\n",
              "See Also\n",
              "--------\n",
              "ion : Enable interactive mode, which shows / updates the figure after\n",
              "      every plotting command, so that calling ``show()`` is not necessary.\n",
              "ioff : Disable interactive mode.\n",
              "savefig : Save the figure to an image file instead of showing it on screen.\n",
              "\n",
              "Notes\n",
              "-----\n",
              "**Saving figures to file and showing a window at the same time**\n",
              "\n",
              "If you want an image file as well as a user interface window, use\n",
              "`.pyplot.savefig` before `.pyplot.show`. At the end of (a blocking)\n",
              "``show()`` the figure is closed and thus unregistered from pyplot. Calling\n",
              "`.pyplot.savefig` afterwards would save a new and thus empty figure. This\n",
              "limitation of command order does not apply if the show is non-blocking or\n",
              "if you keep a reference to the figure and use `.Figure.savefig`.\n",
              "\n",
              "**Auto-show in jupyter notebooks**\n",
              "\n",
              "The jupyter backends (activated via ``%matplotlib inline``,\n",
              "``%matplotlib notebook``, or ``%matplotlib widget``), call ``show()`` at\n",
              "the end of every cell by default. Thus, you usually don&#x27;t have to call it\n",
              "explicitly there.</pre>\n",
              "      <script>\n",
              "      if (google.colab.kernel.accessAllowed && google.colab.files && google.colab.files.view) {\n",
              "        for (const element of document.querySelectorAll('.filepath')) {\n",
              "          element.style.display = 'block'\n",
              "          element.onclick = (event) => {\n",
              "            event.preventDefault();\n",
              "            event.stopPropagation();\n",
              "            google.colab.files.view(element.textContent, 401);\n",
              "          };\n",
              "        }\n",
              "      }\n",
              "      for (const element of document.querySelectorAll('.function-repr-contents')) {\n",
              "        element.onclick = (event) => {\n",
              "          event.preventDefault();\n",
              "          event.stopPropagation();\n",
              "          element.classList.toggle('function-repr-contents-collapsed');\n",
              "        };\n",
              "      }\n",
              "      </script>\n",
              "      </div>"
            ]
          },
          "metadata": {},
          "execution_count": 14
        },
        {
          "output_type": "display_data",
          "data": {
            "text/plain": [
              "<Figure size 640x480 with 1 Axes>"
            ],
            "image/png": "[encoded data removed]"
          },
          "metadata": {}
        }
      ]
    }
  ]
}